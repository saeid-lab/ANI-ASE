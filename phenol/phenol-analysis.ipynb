{
 "cells": [
  {
   "cell_type": "code",
   "execution_count": 1,
   "metadata": {},
   "outputs": [],
   "source": [
    "import ase\n",
    "import torch\n",
    "import torchani"
   ]
  },
  {
   "cell_type": "code",
   "execution_count": 2,
   "metadata": {},
   "outputs": [],
   "source": [
    "from ase.io import read,write"
   ]
  },
  {
   "cell_type": "code",
   "execution_count": 4,
   "metadata": {},
   "outputs": [],
   "source": [
    "molecule = read('phenol-OPTED.com', format='gaussian')"
   ]
  },
  {
   "cell_type": "code",
   "execution_count": 5,
   "metadata": {},
   "outputs": [],
   "source": [
    "model = torchani.models.ANI1x().double()"
   ]
  },
  {
   "cell_type": "code",
   "execution_count": 6,
   "metadata": {},
   "outputs": [],
   "source": [
    "molecule.set_calculator(model.ase())"
   ]
  },
  {
   "cell_type": "markdown",
   "metadata": {},
   "source": [
    "## Compute Energy Using ANI"
   ]
  },
  {
   "cell_type": "code",
   "execution_count": 7,
   "metadata": {},
   "outputs": [
    {
     "name": "stdout",
     "output_type": "stream",
     "text": [
      "-307.38023581599185\n"
     ]
    }
   ],
   "source": [
    "species = model.species_to_tensor(molecule.get_chemical_symbols()).unsqueeze(0)\n",
    "coordinates = torch.from_numpy(molecule.get_positions()).unsqueeze(0).requires_grad_(True)\n",
    "\n",
    "\n",
    "energy = model((species, coordinates)).energies\n",
    "print(energy.item())"
   ]
  },
  {
   "cell_type": "markdown",
   "metadata": {},
   "source": [
    "## Compute Energy Using ASE & ANI Potential"
   ]
  },
  {
   "cell_type": "code",
   "execution_count": 8,
   "metadata": {},
   "outputs": [
    {
     "name": "stdout",
     "output_type": "stream",
     "text": [
      "-8364.242253049988 eV\n"
     ]
    }
   ],
   "source": [
    "En = molecule.get_potential_energy()\n",
    "print(En,'eV')"
   ]
  },
  {
   "cell_type": "code",
   "execution_count": 9,
   "metadata": {},
   "outputs": [
    {
     "name": "stdout",
     "output_type": "stream",
     "text": [
      "Energy as hartee: -307.38023581599185\n"
     ]
    }
   ],
   "source": [
    "from ase.units import Hartree\n",
    "print('Energy as hartee:',En/Hartree)"
   ]
  },
  {
   "cell_type": "markdown",
   "metadata": {},
   "source": [
    "## Calculate Frequencies Using ANI"
   ]
  },
  {
   "cell_type": "code",
   "execution_count": 10,
   "metadata": {},
   "outputs": [],
   "source": [
    "species = model.species_to_tensor(molecule.get_chemical_symbols()).unsqueeze(0)\n",
    "coordinates = torch.from_numpy(molecule.get_positions()).unsqueeze(0).requires_grad_(True)\n",
    "\n",
    "\n",
    "element_masses = torch.tensor([\n",
    "    1.008,  # H\n",
    "    12.011,  # C\n",
    "    14.007,  # N\n",
    "    15.999,  # O\n",
    "], dtype=torch.double)\n",
    "masses = element_masses[species]"
   ]
  },
  {
   "cell_type": "code",
   "execution_count": 11,
   "metadata": {},
   "outputs": [],
   "source": [
    "energies = model((species, coordinates)).energies\n",
    "hessian = torchani.utils.hessian(coordinates, energies=energies)"
   ]
  },
  {
   "cell_type": "code",
   "execution_count": 12,
   "metadata": {},
   "outputs": [
    {
     "name": "stdout",
     "output_type": "stream",
     "text": [
      "Frequencies (cm^-1): tensor([      nan,       nan,       nan,   22.1375,   27.0655,   33.7213,\n",
      "         240.9058,  323.9623,  398.5963,  433.3237,  505.9335,  549.0664,\n",
      "         641.2338,  654.6740,  792.5240,  821.3046,  857.1333,  894.8374,\n",
      "         943.2652,  972.4365, 1057.9421, 1084.0008, 1133.6824, 1194.4545,\n",
      "        1226.6036, 1249.0623, 1324.2374, 1350.5656, 1408.5865, 1555.6388,\n",
      "        1569.4365, 1713.7795, 1751.0878, 3242.1944, 3261.7901, 3271.2612,\n",
      "        3282.7133, 3299.0188, 3785.8384], dtype=torch.float64)\n"
     ]
    }
   ],
   "source": [
    "freq, modes = torchani.utils.vibrational_analysis(masses, hessian)\n",
    "# freq = freq[-3:]\n",
    "# modes = modes[-3:]\n",
    "\n",
    "print('Frequencies (cm^-1):', freq)\n",
    "# print('Modes:', modes)"
   ]
  },
  {
   "cell_type": "markdown",
   "metadata": {},
   "source": [
    "## Calculate Frequencies Using ASE & ANI Potential"
   ]
  },
  {
   "cell_type": "code",
   "execution_count": 13,
   "metadata": {},
   "outputs": [],
   "source": [
    "from ase.vibrations import Vibrations"
   ]
  },
  {
   "cell_type": "code",
   "execution_count": 14,
   "metadata": {},
   "outputs": [],
   "source": [
    "vib = Vibrations(molecule)"
   ]
  },
  {
   "cell_type": "code",
   "execution_count": 15,
   "metadata": {
    "scrolled": true
   },
   "outputs": [
    {
     "name": "stdout",
     "output_type": "stream",
     "text": [
      "Writing vib.eq.pckl\n",
      "Writing vib.0x-.pckl\n",
      "Writing vib.0x+.pckl\n",
      "Writing vib.0y-.pckl\n",
      "Writing vib.0y+.pckl\n",
      "Writing vib.0z-.pckl\n",
      "Writing vib.0z+.pckl\n",
      "Writing vib.1x-.pckl\n",
      "Writing vib.1x+.pckl\n",
      "Writing vib.1y-.pckl\n",
      "Writing vib.1y+.pckl\n",
      "Writing vib.1z-.pckl\n",
      "Writing vib.1z+.pckl\n",
      "Writing vib.2x-.pckl\n",
      "Writing vib.2x+.pckl\n",
      "Writing vib.2y-.pckl\n",
      "Writing vib.2y+.pckl\n",
      "Writing vib.2z-.pckl\n",
      "Writing vib.2z+.pckl\n",
      "Writing vib.3x-.pckl\n",
      "Writing vib.3x+.pckl\n",
      "Writing vib.3y-.pckl\n",
      "Writing vib.3y+.pckl\n",
      "Writing vib.3z-.pckl\n",
      "Writing vib.3z+.pckl\n",
      "Writing vib.4x-.pckl\n",
      "Writing vib.4x+.pckl\n",
      "Writing vib.4y-.pckl\n",
      "Writing vib.4y+.pckl\n",
      "Writing vib.4z-.pckl\n",
      "Writing vib.4z+.pckl\n",
      "Writing vib.5x-.pckl\n",
      "Writing vib.5x+.pckl\n",
      "Writing vib.5y-.pckl\n",
      "Writing vib.5y+.pckl\n",
      "Writing vib.5z-.pckl\n",
      "Writing vib.5z+.pckl\n",
      "Writing vib.6x-.pckl\n",
      "Writing vib.6x+.pckl\n",
      "Writing vib.6y-.pckl\n",
      "Writing vib.6y+.pckl\n",
      "Writing vib.6z-.pckl\n",
      "Writing vib.6z+.pckl\n",
      "Writing vib.7x-.pckl\n",
      "Writing vib.7x+.pckl\n",
      "Writing vib.7y-.pckl\n",
      "Writing vib.7y+.pckl\n",
      "Writing vib.7z-.pckl\n",
      "Writing vib.7z+.pckl\n",
      "Writing vib.8x-.pckl\n",
      "Writing vib.8x+.pckl\n",
      "Writing vib.8y-.pckl\n",
      "Writing vib.8y+.pckl\n",
      "Writing vib.8z-.pckl\n",
      "Writing vib.8z+.pckl\n",
      "Writing vib.9x-.pckl\n",
      "Writing vib.9x+.pckl\n",
      "Writing vib.9y-.pckl\n",
      "Writing vib.9y+.pckl\n",
      "Writing vib.9z-.pckl\n",
      "Writing vib.9z+.pckl\n",
      "Writing vib.10x-.pckl\n",
      "Writing vib.10x+.pckl\n",
      "Writing vib.10y-.pckl\n",
      "Writing vib.10y+.pckl\n",
      "Writing vib.10z-.pckl\n",
      "Writing vib.10z+.pckl\n",
      "Writing vib.11x-.pckl\n",
      "Writing vib.11x+.pckl\n",
      "Writing vib.11y-.pckl\n",
      "Writing vib.11y+.pckl\n",
      "Writing vib.11z-.pckl\n",
      "Writing vib.11z+.pckl\n",
      "Writing vib.12x-.pckl\n",
      "Writing vib.12x+.pckl\n",
      "Writing vib.12y-.pckl\n",
      "Writing vib.12y+.pckl\n",
      "Writing vib.12z-.pckl\n",
      "Writing vib.12z+.pckl\n"
     ]
    }
   ],
   "source": [
    "vib.run()"
   ]
  },
  {
   "cell_type": "code",
   "execution_count": 16,
   "metadata": {},
   "outputs": [
    {
     "data": {
      "text/plain": [
       "79"
      ]
     },
     "execution_count": 16,
     "metadata": {},
     "output_type": "execute_result"
    }
   ],
   "source": [
    "vib.combine()"
   ]
  },
  {
   "cell_type": "code",
   "execution_count": 17,
   "metadata": {},
   "outputs": [
    {
     "name": "stdout",
     "output_type": "stream",
     "text": [
      "---------------------\n",
      "  #    meV     cm^-1\n",
      "---------------------\n",
      "  0    0.5i      4.0i\n",
      "  1    0.2i      2.0i\n",
      "  2    0.0i      0.0i\n",
      "  3    2.8      22.5 \n",
      "  4    3.2      26.0 \n",
      "  5    4.2      34.2 \n",
      "  6   29.9     241.0 \n",
      "  7   40.3     325.1 \n",
      "  8   49.4     398.8 \n",
      "  9   53.9     434.4 \n",
      " 10   62.7     506.0 \n",
      " 11   68.2     550.1 \n",
      " 12   79.5     641.5 \n",
      " 13   81.2     654.8 \n",
      " 14   98.3     792.8 \n",
      " 15  101.9     821.5 \n",
      " 16  107.2     864.7 \n",
      " 17  111.0     895.0 \n",
      " 18  117.0     943.5 \n",
      " 19  120.6     972.7 \n",
      " 20  131.6    1061.8 \n",
      " 21  134.8    1087.1 \n",
      " 22  141.0    1137.4 \n",
      " 23  148.2    1195.1 \n",
      " 24  152.2    1227.5 \n",
      " 25  154.9    1249.7 \n",
      " 26  165.0    1330.5 \n",
      " 27  167.5    1350.9 \n",
      " 28  174.7    1409.3 \n",
      " 29  193.3    1559.2 \n",
      " 30  195.0    1572.8 \n",
      " 31  213.2    1719.5 \n",
      " 32  217.3    1752.9 \n",
      " 33  404.0    3258.6 \n",
      " 34  404.3    3260.6 \n",
      " 35  406.0    3274.3 \n",
      " 36  407.5    3286.9 \n",
      " 37  409.4    3302.2 \n",
      " 38  469.5    3786.8 \n",
      "---------------------\n",
      "Zero-point energy: 2.910 eV\n"
     ]
    }
   ],
   "source": [
    "vib.summary()"
   ]
  },
  {
   "cell_type": "code",
   "execution_count": 18,
   "metadata": {},
   "outputs": [
    {
     "name": "stderr",
     "output_type": "stream",
     "text": [
      "/home/saeed/.local/lib/python3.7/site-packages/ase/vibrations/vibrations.py:469: ComplexWarning: Casting complex values to real discards the imaginary part\n",
      "  fd.write('Mode #%d, f = %.1f%s cm^-1' % (n, f[n], c))\n"
     ]
    }
   ],
   "source": [
    "vib.write_jmol()"
   ]
  },
  {
   "cell_type": "code",
   "execution_count": null,
   "metadata": {},
   "outputs": [],
   "source": []
  }
 ],
 "metadata": {
  "kernelspec": {
   "display_name": "Python 3",
   "language": "python",
   "name": "python3"
  },
  "language_info": {
   "codemirror_mode": {
    "name": "ipython",
    "version": 3
   },
   "file_extension": ".py",
   "mimetype": "text/x-python",
   "name": "python",
   "nbconvert_exporter": "python",
   "pygments_lexer": "ipython3",
   "version": "3.7.4"
  }
 },
 "nbformat": 4,
 "nbformat_minor": 2
}
